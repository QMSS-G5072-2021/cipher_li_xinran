{
 "cells": [
  {
   "cell_type": "markdown",
   "metadata": {},
   "source": [
    "# HW4: Functions II"
   ]
  },
  {
   "cell_type": "markdown",
   "metadata": {},
   "source": [
    "## 1. Recipe Class"
   ]
  },
  {
   "cell_type": "code",
   "execution_count": 252,
   "metadata": {},
   "outputs": [],
   "source": [
    "class Recipe():\n",
    "    def __init__(self, name = \"\", ingredients = {}, meal = \"\", time = 0):\n",
    "        self.Name = name\n",
    "        self.Ingredients = ingredients\n",
    "        #self.ingredient=list(ingredients.keys())\n",
    "        self.Meal = meal\n",
    "        self.Time = time\n",
    "        \n",
    "    def __str__(self):\n",
    "        return self.Name + \", \" + str(self.Time) + \", \" + self.Meal\n",
    "\n",
    "    def weight(self):\n",
    "        return sum(self.Ingredients.values())\n",
    "    "
   ]
  },
  {
   "cell_type": "code",
   "execution_count": 253,
   "metadata": {
    "scrolled": false
   },
   "outputs": [
    {
     "name": "stdout",
     "output_type": "stream",
     "text": [
      "cookie, 30, dessert\n",
      "cake, 40, dessert\n",
      "bread, 20, dessert\n",
      "pho, 30, dinner\n",
      "chicken wing, 50, dinner\n"
     ]
    }
   ],
   "source": [
    "R1 = Recipe(\"cookie\", {\"chocolate\":1, \"butter\":1, \"flour\":2}, \"dessert\", 30)\n",
    "R2 = Recipe(\"cake\", {\"strawberry\":1, \"butter\":1, \"flour\":2}, \"dessert\", 40)\n",
    "R3 = Recipe(\"bread\", {\"redbean\":1, \"flour\":3}, \"dessert\", 20)\n",
    "R4 = Recipe(\"pho\", {\"beef\":5, \"noodle\":1, \"water\":4}, \"dinner\", 30)\n",
    "R5 = Recipe(\"chicken wing\", {\"oil\":1, \"wings\":8}, \"dinner\", 50)\n",
    "print(R1)\n",
    "print(R2)\n",
    "print(R3)\n",
    "print(R4)\n",
    "print(R5)"
   ]
  },
  {
   "cell_type": "code",
   "execution_count": 254,
   "metadata": {
    "scrolled": true
   },
   "outputs": [
    {
     "data": {
      "text/plain": [
       "9"
      ]
     },
     "execution_count": 254,
     "metadata": {},
     "output_type": "execute_result"
    }
   ],
   "source": [
    "R5.weight()"
   ]
  },
  {
   "cell_type": "markdown",
   "metadata": {},
   "source": [
    "## 2. Organizing recipes in a `Cookbook`"
   ]
  },
  {
   "cell_type": "code",
   "execution_count": 255,
   "metadata": {},
   "outputs": [],
   "source": [
    "class Cookbook:\n",
    "    \"\"\"Class contains a list of Recipe objects\"\"\"\n",
    "    def __init__(self):\n",
    "        self.recipe = []\n",
    "        \n",
    "    def add(self,r):\n",
    "        self.recipe.append(r)\n",
    "        \n",
    "    def __str__(self):\n",
    "        temp = \"\"\n",
    "        for r in self.recipe:\n",
    "            temp = temp + str(r) + \"\\n\"\n",
    "        return temp\n",
    "    \n",
    "    def get_meal_type(self, meal_type):\n",
    "        temp = \"\"\n",
    "        for r in self.recipe:\n",
    "            if meal_type in str(r):\n",
    "                temp = temp + str(r) + \"; \"\n",
    "        return temp\n",
    "    \n",
    "    def ing_at_home(self, available_ingredients = [], match_all = True):\n",
    "        if match_all == True:\n",
    "            return [r.Name for r in self.recipe if set(r.Ingredients).issubset(available_ingredients)]\n",
    "        if match_all == False:\n",
    "            return [r.Name for r in self.recipe for i in r.Ingredients.keys() if i in available_ingredients]\n",
    "        "
   ]
  },
  {
   "cell_type": "code",
   "execution_count": 256,
   "metadata": {},
   "outputs": [
    {
     "name": "stdout",
     "output_type": "stream",
     "text": [
      "cookie, 30, dessert\n",
      "cake, 40, dessert\n",
      "bread, 20, dessert\n",
      "pho, 30, dinner\n",
      "chicken wing, 50, dinner\n",
      "\n"
     ]
    }
   ],
   "source": [
    "mycookbook = Cookbook()\n",
    "mycookbook.add(R1)\n",
    "mycookbook.add(R2)\n",
    "mycookbook.add(R3)\n",
    "mycookbook.add(R4)\n",
    "mycookbook.add(R5)\n",
    "print(mycookbook)"
   ]
  },
  {
   "cell_type": "code",
   "execution_count": 257,
   "metadata": {
    "scrolled": false
   },
   "outputs": [
    {
     "data": {
      "text/plain": [
       "'cookie, 30, dessert; cake, 40, dessert; bread, 20, dessert; '"
      ]
     },
     "execution_count": 257,
     "metadata": {},
     "output_type": "execute_result"
    }
   ],
   "source": [
    "mycookbook.get_meal_type(\"dessert\")"
   ]
  },
  {
   "cell_type": "code",
   "execution_count": 258,
   "metadata": {
    "scrolled": true
   },
   "outputs": [],
   "source": [
    "mycookbook1 = Cookbook()\n",
    "mycookbook1.add(R3)\n",
    "mycookbook1.add(R4)"
   ]
  },
  {
   "cell_type": "code",
   "execution_count": 259,
   "metadata": {},
   "outputs": [
    {
     "data": {
      "text/plain": [
       "['pho']"
      ]
     },
     "execution_count": 259,
     "metadata": {},
     "output_type": "execute_result"
    }
   ],
   "source": [
    "mycookbook1.ing_at_home([\"beef\", \"noodle\", \"water\", \"flour\"], match_all = True)"
   ]
  },
  {
   "cell_type": "code",
   "execution_count": 260,
   "metadata": {},
   "outputs": [
    {
     "data": {
      "text/plain": [
       "['bread', 'pho', 'pho', 'pho']"
      ]
     },
     "execution_count": 260,
     "metadata": {},
     "output_type": "execute_result"
    }
   ],
   "source": [
    "mycookbook1.ing_at_home([\"beef\", \"noodle\", \"water\", \"flour\"], match_all = False)"
   ]
  },
  {
   "cell_type": "code",
   "execution_count": null,
   "metadata": {},
   "outputs": [],
   "source": []
  }
 ],
 "metadata": {
  "kernelspec": {
   "display_name": "Python 3",
   "language": "python",
   "name": "python3"
  },
  "language_info": {
   "codemirror_mode": {
    "name": "ipython",
    "version": 3
   },
   "file_extension": ".py",
   "mimetype": "text/x-python",
   "name": "python",
   "nbconvert_exporter": "python",
   "pygments_lexer": "ipython3",
   "version": "3.7.3"
  }
 },
 "nbformat": 4,
 "nbformat_minor": 2
}
