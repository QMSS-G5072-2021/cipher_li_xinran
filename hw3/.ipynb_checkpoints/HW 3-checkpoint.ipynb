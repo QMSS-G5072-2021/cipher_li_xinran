{
 "cells": [
  {
   "cell_type": "markdown",
   "metadata": {},
   "source": [
    "# HW 3: Writing Functions"
   ]
  },
  {
   "cell_type": "markdown",
   "metadata": {},
   "source": [
    "## 1. Cost of the event"
   ]
  },
  {
   "cell_type": "markdown",
   "metadata": {},
   "source": [
    "### a) cost_of_event function"
   ]
  },
  {
   "cell_type": "code",
   "execution_count": 1,
   "metadata": {},
   "outputs": [],
   "source": [
    "#num_of_people: the number of people attending the event\n",
    "#type: type of the event could be wedding, private or corporate\n",
    "#cost: cost per person in USD.   \n",
    "\n",
    "def cost_of_event(num_of_people, type = \"private\", cost = 450):\n",
    "    total_cost = num_of_people*cost\n",
    "    if type == \"wedding\":\n",
    "        return total_cost*1.5\n",
    "    else:\n",
    "        return total_cost"
   ]
  },
  {
   "cell_type": "code",
   "execution_count": 116,
   "metadata": {},
   "outputs": [
    {
     "data": {
      "text/plain": [
       "101250.0"
      ]
     },
     "execution_count": 116,
     "metadata": {},
     "output_type": "execute_result"
    }
   ],
   "source": [
    "cost_of_event(150,\"wedding\",450)"
   ]
  },
  {
   "cell_type": "markdown",
   "metadata": {},
   "source": [
    "### b) sales_tax function"
   ]
  },
  {
   "cell_type": "code",
   "execution_count": 84,
   "metadata": {},
   "outputs": [],
   "source": [
    "def sales_tax(value_of_event, tax_rate = 0.1, type = \"private\"):\n",
    "    if type == \"corporate\":\n",
    "        sales_tax = value_of_event * tax_rate\n",
    "        return sales_tax\n",
    "    elif value_of_event <= 1000:\n",
    "        sales_tax = 0\n",
    "        return sales_tax\n",
    "    else:\n",
    "        sales_tax = (value_of_event - 1000) * tax_rate\n",
    "        return sales_tax "
   ]
  },
  {
   "cell_type": "code",
   "execution_count": 85,
   "metadata": {
    "scrolled": true
   },
   "outputs": [
    {
     "data": {
      "text/plain": [
       "400.0"
      ]
     },
     "execution_count": 85,
     "metadata": {},
     "output_type": "execute_result"
    }
   ],
   "source": [
    "privateST = sales_tax(5000, type = \"private\")\n",
    "privateST"
   ]
  },
  {
   "cell_type": "code",
   "execution_count": 86,
   "metadata": {
    "scrolled": true
   },
   "outputs": [
    {
     "data": {
      "text/plain": [
       "500.0"
      ]
     },
     "execution_count": 86,
     "metadata": {},
     "output_type": "execute_result"
    }
   ],
   "source": [
    "corporateST = sales_tax(5000, type = \"corporate\")\n",
    "corporateST"
   ]
  },
  {
   "cell_type": "markdown",
   "metadata": {},
   "source": [
    "### c) event_calculator"
   ]
  },
  {
   "cell_type": "code",
   "execution_count": 117,
   "metadata": {},
   "outputs": [],
   "source": [
    "def event_calculator(num_of_people, **kwargs):\n",
    "    event_type = kwargs.get(\"type\")\n",
    "    costpp = kwargs.get(\"cost\")\n",
    "    tax_rate = kwargs.get(\"tax_rate\")\n",
    "    coste = cost_of_event(num_of_people, type = event_type, cost = costpp)\n",
    "    st = sales_tax(coste, tax_rate = tax_rate, type = event_type)\n",
    "    total_cost = coste + st\n",
    "    print(f\" Total number of guests: {num_of_people}\\n\",\n",
    "          f\"Type of event: {event_type}\\n\",\n",
    "          f\"Cost per person: {costpp}\\n\",\n",
    "          f\"---------------------------\\n\",\n",
    "          f\"Cost of event: {coste}\\n\",\n",
    "          f\"Sales tax: {st}\\n\",\n",
    "          f\"---------------------------\\n\",\n",
    "          f\"Total cost: {total_cost}\")"
   ]
  },
  {
   "cell_type": "code",
   "execution_count": 118,
   "metadata": {
    "scrolled": true
   },
   "outputs": [
    {
     "name": "stdout",
     "output_type": "stream",
     "text": [
      " Total number of guests: 100\n",
      " Type of event: corporate\n",
      " Cost per person: 75\n",
      " ---------------------------\n",
      " Cost of event: 7500\n",
      " Sales tax: 600.0\n",
      " ---------------------------\n",
      " Total cost: 8100.0\n"
     ]
    }
   ],
   "source": [
    "event_calculator(100, type = \"corporate\", cost = 75, tax_rate = 0.08)"
   ]
  },
  {
   "cell_type": "markdown",
   "metadata": {},
   "source": [
    "## 2. Error Handling"
   ]
  },
  {
   "cell_type": "markdown",
   "metadata": {},
   "source": [
    "### a) event_calculator w/ error handling\n",
    "\n",
    "* a non-negative cost per person\n",
    "* a sales tax ranging from 0 to 25%\n",
    "* the types of events you planned for in your function"
   ]
  },
  {
   "cell_type": "code",
   "execution_count": 132,
   "metadata": {},
   "outputs": [],
   "source": [
    "def event_calculator(num_of_people, **kwargs):\n",
    "    event_type = kwargs.get(\"type\")\n",
    "    if event_type not in [\"corporate\", \"wedding\", \"private\"]:\n",
    "        raise Exception(\"Only corporate, wedding, and private events are offered. Your chosen type of event is not offered here.\")\n",
    "    \n",
    "    costpp = kwargs.get(\"cost\")\n",
    "    assert costpp > 0, \"Cost per person must be a positive number.\"\n",
    "    \n",
    "    tax_rate = kwargs.get(\"tax_rate\")\n",
    "    assert tax_rate < 0.25 and tax_rate > 0.0, \"Sales tax is ranging from 0 to 25%.\"\n",
    "    \n",
    "    coste = cost_of_event(num_of_people, type = event_type, cost = costpp)\n",
    "    st = sales_tax(coste, tax_rate = tax_rate, type = event_type)\n",
    "    total_cost = coste + st\n",
    "    print(f\" Total number of guests: {num_of_people}\\n\",\n",
    "          f\"Type of event: {event_type}\\n\",\n",
    "          f\"Cost per person: {costpp}\\n\",\n",
    "          f\"---------------------------\\n\",\n",
    "          f\"Cost of event: {coste}\\n\",\n",
    "          f\"Sales tax: {st}\\n\",\n",
    "          f\"---------------------------\\n\",\n",
    "          f\"Total cost: {total_cost}\")"
   ]
  },
  {
   "cell_type": "code",
   "execution_count": 124,
   "metadata": {
    "scrolled": true
   },
   "outputs": [
    {
     "ename": "Exception",
     "evalue": "Only corporate, wedding, and private events are offered. Your chosen type of event is not offered here.",
     "output_type": "error",
     "traceback": [
      "\u001b[0;31m---------------------------------------------------------------------------\u001b[0m",
      "\u001b[0;31mException\u001b[0m                                 Traceback (most recent call last)",
      "\u001b[0;32m<ipython-input-124-a7f66eaedec0>\u001b[0m in \u001b[0;36m<module>\u001b[0;34m\u001b[0m\n\u001b[0;32m----> 1\u001b[0;31m \u001b[0mevent_calculator\u001b[0m\u001b[0;34m(\u001b[0m\u001b[0;36m100\u001b[0m\u001b[0;34m,\u001b[0m \u001b[0mtype\u001b[0m \u001b[0;34m=\u001b[0m \u001b[0;34m\"bachelor party\"\u001b[0m\u001b[0;34m,\u001b[0m \u001b[0mcost\u001b[0m \u001b[0;34m=\u001b[0m \u001b[0;36m1\u001b[0m\u001b[0;34m)\u001b[0m\u001b[0;34m\u001b[0m\u001b[0;34m\u001b[0m\u001b[0m\n\u001b[0m",
      "\u001b[0;32m<ipython-input-120-313b3b7b3430>\u001b[0m in \u001b[0;36mevent_calculator\u001b[0;34m(num_of_people, **kwargs)\u001b[0m\n\u001b[1;32m      2\u001b[0m     \u001b[0mevent_type\u001b[0m \u001b[0;34m=\u001b[0m \u001b[0mkwargs\u001b[0m\u001b[0;34m.\u001b[0m\u001b[0mget\u001b[0m\u001b[0;34m(\u001b[0m\u001b[0;34m\"type\"\u001b[0m\u001b[0;34m)\u001b[0m\u001b[0;34m\u001b[0m\u001b[0;34m\u001b[0m\u001b[0m\n\u001b[1;32m      3\u001b[0m     \u001b[0;32mif\u001b[0m \u001b[0mevent_type\u001b[0m \u001b[0;32mnot\u001b[0m \u001b[0;32min\u001b[0m \u001b[0;34m[\u001b[0m\u001b[0;34m\"corporate\"\u001b[0m\u001b[0;34m,\u001b[0m \u001b[0;34m\"wedding\"\u001b[0m\u001b[0;34m,\u001b[0m \u001b[0;34m\"private\"\u001b[0m\u001b[0;34m]\u001b[0m\u001b[0;34m:\u001b[0m\u001b[0;34m\u001b[0m\u001b[0;34m\u001b[0m\u001b[0m\n\u001b[0;32m----> 4\u001b[0;31m         \u001b[0;32mraise\u001b[0m \u001b[0mException\u001b[0m\u001b[0;34m(\u001b[0m\u001b[0;34m\"Only corporate, wedding, and private events are offered. Your chosen type of event is not offered here.\"\u001b[0m\u001b[0;34m)\u001b[0m\u001b[0;34m\u001b[0m\u001b[0;34m\u001b[0m\u001b[0m\n\u001b[0m\u001b[1;32m      5\u001b[0m \u001b[0;34m\u001b[0m\u001b[0m\n\u001b[1;32m      6\u001b[0m     \u001b[0mcostpp\u001b[0m \u001b[0;34m=\u001b[0m \u001b[0mkwargs\u001b[0m\u001b[0;34m.\u001b[0m\u001b[0mget\u001b[0m\u001b[0;34m(\u001b[0m\u001b[0;34m\"cost\"\u001b[0m\u001b[0;34m)\u001b[0m\u001b[0;34m\u001b[0m\u001b[0;34m\u001b[0m\u001b[0m\n",
      "\u001b[0;31mException\u001b[0m: Only corporate, wedding, and private events are offered. Your chosen type of event is not offered here."
     ]
    }
   ],
   "source": [
    "event_calculator(100, type = \"bachelor party\", cost = 1)"
   ]
  },
  {
   "cell_type": "code",
   "execution_count": 123,
   "metadata": {
    "scrolled": true
   },
   "outputs": [
    {
     "ename": "AssertionError",
     "evalue": "Cost per person must be a positive number.",
     "output_type": "error",
     "traceback": [
      "\u001b[0;31m---------------------------------------------------------------------------\u001b[0m",
      "\u001b[0;31mAssertionError\u001b[0m                            Traceback (most recent call last)",
      "\u001b[0;32m<ipython-input-123-9f22e0c0cf1d>\u001b[0m in \u001b[0;36m<module>\u001b[0;34m\u001b[0m\n\u001b[0;32m----> 1\u001b[0;31m \u001b[0mevent_calculator\u001b[0m\u001b[0;34m(\u001b[0m\u001b[0;36m100\u001b[0m\u001b[0;34m,\u001b[0m \u001b[0mtype\u001b[0m \u001b[0;34m=\u001b[0m \u001b[0;34m\"wedding\"\u001b[0m\u001b[0;34m,\u001b[0m \u001b[0mcost\u001b[0m \u001b[0;34m=\u001b[0m \u001b[0;34m-\u001b[0m\u001b[0;36m10\u001b[0m\u001b[0;34m)\u001b[0m\u001b[0;34m\u001b[0m\u001b[0;34m\u001b[0m\u001b[0m\n\u001b[0m",
      "\u001b[0;32m<ipython-input-120-313b3b7b3430>\u001b[0m in \u001b[0;36mevent_calculator\u001b[0;34m(num_of_people, **kwargs)\u001b[0m\n\u001b[1;32m      5\u001b[0m \u001b[0;34m\u001b[0m\u001b[0m\n\u001b[1;32m      6\u001b[0m     \u001b[0mcostpp\u001b[0m \u001b[0;34m=\u001b[0m \u001b[0mkwargs\u001b[0m\u001b[0;34m.\u001b[0m\u001b[0mget\u001b[0m\u001b[0;34m(\u001b[0m\u001b[0;34m\"cost\"\u001b[0m\u001b[0;34m)\u001b[0m\u001b[0;34m\u001b[0m\u001b[0;34m\u001b[0m\u001b[0m\n\u001b[0;32m----> 7\u001b[0;31m     \u001b[0;32massert\u001b[0m \u001b[0mcostpp\u001b[0m \u001b[0;34m>\u001b[0m \u001b[0;36m0\u001b[0m\u001b[0;34m,\u001b[0m \u001b[0;34m\"Cost per person must be a positive number.\"\u001b[0m\u001b[0;34m\u001b[0m\u001b[0;34m\u001b[0m\u001b[0m\n\u001b[0m\u001b[1;32m      8\u001b[0m \u001b[0;34m\u001b[0m\u001b[0m\n\u001b[1;32m      9\u001b[0m     \u001b[0mtax_rate\u001b[0m \u001b[0;34m=\u001b[0m \u001b[0mkwargs\u001b[0m\u001b[0;34m.\u001b[0m\u001b[0mget\u001b[0m\u001b[0;34m(\u001b[0m\u001b[0;34m\"tax_rate\"\u001b[0m\u001b[0;34m)\u001b[0m\u001b[0;34m\u001b[0m\u001b[0;34m\u001b[0m\u001b[0m\n",
      "\u001b[0;31mAssertionError\u001b[0m: Cost per person must be a positive number."
     ]
    }
   ],
   "source": [
    "event_calculator(100, type = \"wedding\", cost = -10)"
   ]
  },
  {
   "cell_type": "code",
   "execution_count": 133,
   "metadata": {
    "scrolled": false
   },
   "outputs": [
    {
     "ename": "AssertionError",
     "evalue": "Sales tax is ranging from 0 to 25%.",
     "output_type": "error",
     "traceback": [
      "\u001b[0;31m---------------------------------------------------------------------------\u001b[0m",
      "\u001b[0;31mAssertionError\u001b[0m                            Traceback (most recent call last)",
      "\u001b[0;32m<ipython-input-133-b6d475fc281e>\u001b[0m in \u001b[0;36m<module>\u001b[0;34m\u001b[0m\n\u001b[0;32m----> 1\u001b[0;31m \u001b[0mevent_calculator\u001b[0m\u001b[0;34m(\u001b[0m\u001b[0;36m100\u001b[0m\u001b[0;34m,\u001b[0m \u001b[0mtype\u001b[0m \u001b[0;34m=\u001b[0m \u001b[0;34m\"wedding\"\u001b[0m\u001b[0;34m,\u001b[0m \u001b[0mcost\u001b[0m \u001b[0;34m=\u001b[0m \u001b[0;36m10\u001b[0m\u001b[0;34m,\u001b[0m \u001b[0mtax_rate\u001b[0m \u001b[0;34m=\u001b[0m \u001b[0;36m0.5\u001b[0m\u001b[0;34m)\u001b[0m\u001b[0;34m\u001b[0m\u001b[0;34m\u001b[0m\u001b[0m\n\u001b[0m",
      "\u001b[0;32m<ipython-input-132-88d0e3491182>\u001b[0m in \u001b[0;36mevent_calculator\u001b[0;34m(num_of_people, **kwargs)\u001b[0m\n\u001b[1;32m      8\u001b[0m \u001b[0;34m\u001b[0m\u001b[0m\n\u001b[1;32m      9\u001b[0m     \u001b[0mtax_rate\u001b[0m \u001b[0;34m=\u001b[0m \u001b[0mkwargs\u001b[0m\u001b[0;34m.\u001b[0m\u001b[0mget\u001b[0m\u001b[0;34m(\u001b[0m\u001b[0;34m\"tax_rate\"\u001b[0m\u001b[0;34m)\u001b[0m\u001b[0;34m\u001b[0m\u001b[0;34m\u001b[0m\u001b[0m\n\u001b[0;32m---> 10\u001b[0;31m     \u001b[0;32massert\u001b[0m \u001b[0mtax_rate\u001b[0m \u001b[0;34m<\u001b[0m \u001b[0;36m0.25\u001b[0m \u001b[0;32mand\u001b[0m \u001b[0mtax_rate\u001b[0m \u001b[0;34m>\u001b[0m \u001b[0;36m0.0\u001b[0m\u001b[0;34m,\u001b[0m \u001b[0;34m\"Sales tax is ranging from 0 to 25%.\"\u001b[0m\u001b[0;34m\u001b[0m\u001b[0;34m\u001b[0m\u001b[0m\n\u001b[0m\u001b[1;32m     11\u001b[0m \u001b[0;34m\u001b[0m\u001b[0m\n\u001b[1;32m     12\u001b[0m     \u001b[0mcoste\u001b[0m \u001b[0;34m=\u001b[0m \u001b[0mcost_of_event\u001b[0m\u001b[0;34m(\u001b[0m\u001b[0mnum_of_people\u001b[0m\u001b[0;34m,\u001b[0m \u001b[0mtype\u001b[0m \u001b[0;34m=\u001b[0m \u001b[0mevent_type\u001b[0m\u001b[0;34m,\u001b[0m \u001b[0mcost\u001b[0m \u001b[0;34m=\u001b[0m \u001b[0mcostpp\u001b[0m\u001b[0;34m)\u001b[0m\u001b[0;34m\u001b[0m\u001b[0;34m\u001b[0m\u001b[0m\n",
      "\u001b[0;31mAssertionError\u001b[0m: Sales tax is ranging from 0 to 25%."
     ]
    }
   ],
   "source": [
    "event_calculator(100, type = \"wedding\", cost = 10, tax_rate = 0.5)"
   ]
  },
  {
   "cell_type": "markdown",
   "metadata": {},
   "source": [
    "### b) event_calculator w/ error handling"
   ]
  },
  {
   "cell_type": "code",
   "execution_count": 146,
   "metadata": {},
   "outputs": [],
   "source": [
    "def event_calculator2(num_of_people, **kwargs):        \n",
    "    try:\n",
    "        event_type = kwargs.get(\"type\")\n",
    "        if event_type not in [\"corporate\", \"wedding\", \"private\"]:\n",
    "            raise Exception(\"Only corporate, wedding, and private events are offered. Your chosen type of event is not offered here.\")\n",
    "    \n",
    "        costpp = kwargs.get(\"cost\")\n",
    "        assert costpp > 0, \"Cost per person must be a positive number.\"\n",
    "    \n",
    "        tax_rate = kwargs.get(\"tax_rate\")\n",
    "        assert tax_rate < 0.25 and tax_rate > 0.0, \"Sales tax is ranging from 0 to 25%.\"\n",
    "\n",
    "        coste = cost_of_event(num_of_people, type = event_type, cost = costpp)\n",
    "        st = sales_tax(coste, tax_rate = tax_rate, type = event_type)\n",
    "        total_cost = coste + st\n",
    "        print(f\" Total number of guests: {num_of_people}\\n\",\n",
    "              f\"Type of event: {event_type}\\n\",\n",
    "              f\"Cost per person: {costpp}\\n\",\n",
    "              f\"---------------------------\\n\",\n",
    "              f\"Cost of event: {coste}\\n\",\n",
    "              f\"Sales tax: {st}\\n\",\n",
    "              f\"---------------------------\\n\",\n",
    "              f\"Total cost: {total_cost}\")\n",
    "\n",
    "    except:\n",
    "        print(\"Please check your input values.\")"
   ]
  },
  {
   "cell_type": "code",
   "execution_count": 147,
   "metadata": {},
   "outputs": [
    {
     "name": "stdout",
     "output_type": "stream",
     "text": [
      "Please check your input values.\n"
     ]
    }
   ],
   "source": [
    "event_calculator2(100, type = \"wedding\", cost = 10, tax_rate = -0.9)"
   ]
  }
 ],
 "metadata": {
  "kernelspec": {
   "display_name": "Python 3",
   "language": "python",
   "name": "python3"
  },
  "language_info": {
   "codemirror_mode": {
    "name": "ipython",
    "version": 3
   },
   "file_extension": ".py",
   "mimetype": "text/x-python",
   "name": "python",
   "nbconvert_exporter": "python",
   "pygments_lexer": "ipython3",
   "version": "3.7.3"
  }
 },
 "nbformat": 4,
 "nbformat_minor": 2
}
