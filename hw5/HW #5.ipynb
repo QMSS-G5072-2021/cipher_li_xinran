{
 "cells": [
  {
   "cell_type": "markdown",
   "metadata": {},
   "source": [
    "# HW5: Emergency Hospital Injuries\n",
    "\n",
    "The file `emergency.csv` contains a random sample of 10,000 narratives of injuries treated in U.S. emergency departments. We will try to extract some structured data from these narratives."
   ]
  },
  {
   "cell_type": "code",
   "execution_count": 37,
   "metadata": {},
   "outputs": [],
   "source": [
    "import numpy as np\n",
    "import pandas as pd\n",
    "import re\n",
    "import matplotlib.pyplot as plt"
   ]
  },
  {
   "cell_type": "markdown",
   "metadata": {},
   "source": [
    "## a) Length of Narratives\n",
    "\n",
    "Read in the data. Find and display the longest and shortest description."
   ]
  },
  {
   "cell_type": "code",
   "execution_count": 15,
   "metadata": {},
   "outputs": [
    {
     "data": {
      "text/html": [
       "<div>\n",
       "<style scoped>\n",
       "    .dataframe tbody tr th:only-of-type {\n",
       "        vertical-align: middle;\n",
       "    }\n",
       "\n",
       "    .dataframe tbody tr th {\n",
       "        vertical-align: top;\n",
       "    }\n",
       "\n",
       "    .dataframe thead th {\n",
       "        text-align: right;\n",
       "    }\n",
       "</style>\n",
       "<table border=\"1\" class=\"dataframe\">\n",
       "  <thead>\n",
       "    <tr style=\"text-align: right;\">\n",
       "      <th></th>\n",
       "      <th>Description</th>\n",
       "    </tr>\n",
       "  </thead>\n",
       "  <tbody>\n",
       "    <tr>\n",
       "      <th>0</th>\n",
       "      <td>10 MO F FELL OUT OF SHOPPING CART;DX FRACTURED...</td>\n",
       "    </tr>\n",
       "    <tr>\n",
       "      <th>1</th>\n",
       "      <td>75YOF WITH LAC TO FINGER FROM METAL CAN</td>\n",
       "    </tr>\n",
       "    <tr>\n",
       "      <th>2</th>\n",
       "      <td>8YOF FRACTURED FINGER FELL OFF HER BIKE</td>\n",
       "    </tr>\n",
       "    <tr>\n",
       "      <th>3</th>\n",
       "      <td>9 YOM TACKLED DURING FOOTBALL PRACTICE.  DX: C...</td>\n",
       "    </tr>\n",
       "    <tr>\n",
       "      <th>4</th>\n",
       "      <td>PT WAS HIT ON RT SIDE WHILE PLAYING FOOTBALL D...</td>\n",
       "    </tr>\n",
       "  </tbody>\n",
       "</table>\n",
       "</div>"
      ],
      "text/plain": [
       "                                         Description\n",
       "0  10 MO F FELL OUT OF SHOPPING CART;DX FRACTURED...\n",
       "1           75YOF WITH LAC TO FINGER FROM METAL CAN \n",
       "2           8YOF FRACTURED FINGER FELL OFF HER BIKE \n",
       "3  9 YOM TACKLED DURING FOOTBALL PRACTICE.  DX: C...\n",
       "4  PT WAS HIT ON RT SIDE WHILE PLAYING FOOTBALL D..."
      ]
     },
     "execution_count": 15,
     "metadata": {},
     "output_type": "execute_result"
    }
   ],
   "source": [
    "df = pd.read_csv(\"emergency.csv\", names = [\"Description\"])\n",
    "df.head()"
   ]
  },
  {
   "cell_type": "code",
   "execution_count": 16,
   "metadata": {
    "scrolled": true
   },
   "outputs": [
    {
     "data": {
      "text/html": [
       "<div>\n",
       "<style scoped>\n",
       "    .dataframe tbody tr th:only-of-type {\n",
       "        vertical-align: middle;\n",
       "    }\n",
       "\n",
       "    .dataframe tbody tr th {\n",
       "        vertical-align: top;\n",
       "    }\n",
       "\n",
       "    .dataframe thead th {\n",
       "        text-align: right;\n",
       "    }\n",
       "</style>\n",
       "<table border=\"1\" class=\"dataframe\">\n",
       "  <thead>\n",
       "    <tr style=\"text-align: right;\">\n",
       "      <th></th>\n",
       "      <th>Description</th>\n",
       "    </tr>\n",
       "  </thead>\n",
       "  <tbody>\n",
       "    <tr>\n",
       "      <th>109</th>\n",
       "      <td>40YOM-C/O FOOT/HEEL PAIN RUNNIJNG BACKWARDS FE...</td>\n",
       "    </tr>\n",
       "    <tr>\n",
       "      <th>511</th>\n",
       "      <td>19MOWF  PARENTS HOLDING PT.  DAD STATES SHE WA...</td>\n",
       "    </tr>\n",
       "    <tr>\n",
       "      <th>630</th>\n",
       "      <td>44YOF  PT HAVING SEVERE R ARM PAIN THAT IS RAD...</td>\n",
       "    </tr>\n",
       "    <tr>\n",
       "      <th>920</th>\n",
       "      <td>57 YO F WAS POURING KEROSENE OVER AN OPEN FLAM...</td>\n",
       "    </tr>\n",
       "    <tr>\n",
       "      <th>1111</th>\n",
       "      <td>13YOM DID OUTDOOR WORKOUT X1 1/2 HRS, DEVELOEP...</td>\n",
       "    </tr>\n",
       "    <tr>\n",
       "      <th>...</th>\n",
       "      <td>...</td>\n",
       "    </tr>\n",
       "    <tr>\n",
       "      <th>9370</th>\n",
       "      <td>20 YO M, RUNNING FROM POLICE AFTER AN ALLEGED ...</td>\n",
       "    </tr>\n",
       "    <tr>\n",
       "      <th>9666</th>\n",
       "      <td>22YOM WAS LIGHTING PROPANE PIZZA OVEN ON FRI. ...</td>\n",
       "    </tr>\n",
       "    <tr>\n",
       "      <th>9670</th>\n",
       "      <td>45YOWM  TONIGHT PT WAS TRYING TO MOVE HIS FATH...</td>\n",
       "    </tr>\n",
       "    <tr>\n",
       "      <th>9749</th>\n",
       "      <td>PT.INJ.NOSE,HAND,WRIST,ELBOW WHEN RIDING BIKE ...</td>\n",
       "    </tr>\n",
       "    <tr>\n",
       "      <th>9853</th>\n",
       "      <td>15YF ON BUS TO SOCCER GAME&amp;NOTICED \"FUNNY SMEL...</td>\n",
       "    </tr>\n",
       "  </tbody>\n",
       "</table>\n",
       "<p>66 rows × 1 columns</p>\n",
       "</div>"
      ],
      "text/plain": [
       "                                            Description\n",
       "109   40YOM-C/O FOOT/HEEL PAIN RUNNIJNG BACKWARDS FE...\n",
       "511   19MOWF  PARENTS HOLDING PT.  DAD STATES SHE WA...\n",
       "630   44YOF  PT HAVING SEVERE R ARM PAIN THAT IS RAD...\n",
       "920   57 YO F WAS POURING KEROSENE OVER AN OPEN FLAM...\n",
       "1111  13YOM DID OUTDOOR WORKOUT X1 1/2 HRS, DEVELOEP...\n",
       "...                                                 ...\n",
       "9370  20 YO M, RUNNING FROM POLICE AFTER AN ALLEGED ...\n",
       "9666  22YOM WAS LIGHTING PROPANE PIZZA OVEN ON FRI. ...\n",
       "9670  45YOWM  TONIGHT PT WAS TRYING TO MOVE HIS FATH...\n",
       "9749  PT.INJ.NOSE,HAND,WRIST,ELBOW WHEN RIDING BIKE ...\n",
       "9853  15YF ON BUS TO SOCCER GAME&NOTICED \"FUNNY SMEL...\n",
       "\n",
       "[66 rows x 1 columns]"
      ]
     },
     "execution_count": 16,
     "metadata": {},
     "output_type": "execute_result"
    }
   ],
   "source": [
    "longest = max(df.iloc[:,0], key = len)\n",
    "df[df[\"Description\"].apply(lambda x: len(x) == len(longest))]"
   ]
  },
  {
   "cell_type": "code",
   "execution_count": 17,
   "metadata": {
    "scrolled": true
   },
   "outputs": [
    {
     "data": {
      "text/html": [
       "<div>\n",
       "<style scoped>\n",
       "    .dataframe tbody tr th:only-of-type {\n",
       "        vertical-align: middle;\n",
       "    }\n",
       "\n",
       "    .dataframe tbody tr th {\n",
       "        vertical-align: top;\n",
       "    }\n",
       "\n",
       "    .dataframe thead th {\n",
       "        text-align: right;\n",
       "    }\n",
       "</style>\n",
       "<table border=\"1\" class=\"dataframe\">\n",
       "  <thead>\n",
       "    <tr style=\"text-align: right;\">\n",
       "      <th></th>\n",
       "      <th>Description</th>\n",
       "    </tr>\n",
       "  </thead>\n",
       "  <tbody>\n",
       "    <tr>\n",
       "      <th>7127</th>\n",
       "      <td>ABR HIP ON FLOOR</td>\n",
       "    </tr>\n",
       "    <tr>\n",
       "      <th>7731</th>\n",
       "      <td>INGESTION OF ***</td>\n",
       "    </tr>\n",
       "  </tbody>\n",
       "</table>\n",
       "</div>"
      ],
      "text/plain": [
       "            Description\n",
       "7127  ABR HIP ON FLOOR \n",
       "7731  INGESTION OF *** "
      ]
     },
     "execution_count": 17,
     "metadata": {},
     "output_type": "execute_result"
    }
   ],
   "source": [
    "shortest = min(df.iloc[:,0], key = len)\n",
    "df[df[\"Description\"].apply(lambda x: len(x) == len(shortest))]"
   ]
  },
  {
   "cell_type": "code",
   "execution_count": 18,
   "metadata": {},
   "outputs": [
    {
     "name": "stdout",
     "output_type": "stream",
     "text": [
      "The longest description is 143 and the shortest description is 17.\n"
     ]
    }
   ],
   "source": [
    "print(f\"The longest description is {len(longest)} and the shortest description is {len(shortest)}.\")"
   ]
  },
  {
   "cell_type": "markdown",
   "metadata": {},
   "source": [
    "## b) Fractures\n",
    "Find all narratives related to \"fractures\". Try to include singular/plural/verb forms in your search. Also, `FX` is the medical abbreviation for fracture, so include that as well. How many fracture narratives can you find?"
   ]
  },
  {
   "cell_type": "code",
   "execution_count": 19,
   "metadata": {},
   "outputs": [
    {
     "name": "stdout",
     "output_type": "stream",
     "text": [
      "The number of fracture narratives I can find is 1485.\n"
     ]
    }
   ],
   "source": [
    "fractures = [i for i in df[\"Description\"] if re.search(r\"(FX[S]*|FRACTUR(E|ED|ES))\", i)]\n",
    "print(f\"The number of fracture narratives I can find is {len(fractures)}.\")"
   ]
  },
  {
   "cell_type": "markdown",
   "metadata": {},
   "source": [
    "## c) Body Parts\n",
    "\n",
    "Among the fracture narratives, try to identify the body parts that are fractured (Note: Don't go overboard. A selection of parts is sufficient.). Make a histogram of fractured body parts (but make sure plural and singular forms are combined.)"
   ]
  },
  {
   "cell_type": "code",
   "execution_count": 20,
   "metadata": {
    "scrolled": true
   },
   "outputs": [],
   "source": [
    "bodyparts = ['FOOT', 'HAND', 'ANKLE', 'WRIST', 'ARM', 'EYE', 'LEG', 'KNEE']\n",
    "L = []\n",
    "for f in fractures:\n",
    "    for bp in bodyparts:\n",
    "        if re.findall(bp,f):\n",
    "            L.append(bp)   "
   ]
  },
  {
   "cell_type": "code",
   "execution_count": 21,
   "metadata": {
    "scrolled": true
   },
   "outputs": [
    {
     "data": {
      "text/html": [
       "<div>\n",
       "<style scoped>\n",
       "    .dataframe tbody tr th:only-of-type {\n",
       "        vertical-align: middle;\n",
       "    }\n",
       "\n",
       "    .dataframe tbody tr th {\n",
       "        vertical-align: top;\n",
       "    }\n",
       "\n",
       "    .dataframe thead th {\n",
       "        text-align: right;\n",
       "    }\n",
       "</style>\n",
       "<table border=\"1\" class=\"dataframe\">\n",
       "  <thead>\n",
       "    <tr style=\"text-align: right;\">\n",
       "      <th></th>\n",
       "      <th>Bodyparts</th>\n",
       "      <th>Counts</th>\n",
       "    </tr>\n",
       "  </thead>\n",
       "  <tbody>\n",
       "    <tr>\n",
       "      <th>0</th>\n",
       "      <td>FOOT</td>\n",
       "      <td>170</td>\n",
       "    </tr>\n",
       "    <tr>\n",
       "      <th>1</th>\n",
       "      <td>ARM</td>\n",
       "      <td>166</td>\n",
       "    </tr>\n",
       "    <tr>\n",
       "      <th>2</th>\n",
       "      <td>WRIST</td>\n",
       "      <td>143</td>\n",
       "    </tr>\n",
       "    <tr>\n",
       "      <th>3</th>\n",
       "      <td>HAND</td>\n",
       "      <td>141</td>\n",
       "    </tr>\n",
       "    <tr>\n",
       "      <th>4</th>\n",
       "      <td>ANKLE</td>\n",
       "      <td>127</td>\n",
       "    </tr>\n",
       "    <tr>\n",
       "      <th>5</th>\n",
       "      <td>LEG</td>\n",
       "      <td>65</td>\n",
       "    </tr>\n",
       "    <tr>\n",
       "      <th>6</th>\n",
       "      <td>KNEE</td>\n",
       "      <td>31</td>\n",
       "    </tr>\n",
       "    <tr>\n",
       "      <th>7</th>\n",
       "      <td>EYE</td>\n",
       "      <td>3</td>\n",
       "    </tr>\n",
       "  </tbody>\n",
       "</table>\n",
       "</div>"
      ],
      "text/plain": [
       "  Bodyparts  Counts\n",
       "0      FOOT     170\n",
       "1       ARM     166\n",
       "2     WRIST     143\n",
       "3      HAND     141\n",
       "4     ANKLE     127\n",
       "5       LEG      65\n",
       "6      KNEE      31\n",
       "7       EYE       3"
      ]
     },
     "execution_count": 21,
     "metadata": {},
     "output_type": "execute_result"
    }
   ],
   "source": [
    "labels, counts = np.unique(L, return_counts = True)\n",
    "mytable = pd.DataFrame(labels[np.argsort(-counts)])\n",
    "mytable[\"counts\"] = counts[np.argsort(-counts)]\n",
    "mytable.columns = [\"Bodyparts\", \"Counts\"]\n",
    "mytable"
   ]
  },
  {
   "cell_type": "code",
   "execution_count": 22,
   "metadata": {
    "scrolled": false
   },
   "outputs": [
    {
     "data": {
      "text/plain": [
       "<AxesSubplot:xlabel='Bodyparts'>"
      ]
     },
     "execution_count": 22,
     "metadata": {},
     "output_type": "execute_result"
    },
    {
     "data": {
      "image/png": "[encoded data removed]",
      "text/plain": [
       "<Figure size 432x288 with 1 Axes>"
      ]
     },
     "metadata": {
      "needs_background": "light"
     },
     "output_type": "display_data"
    }
   ],
   "source": [
    "mytable.plot(y = \"Counts\", x = \"Bodyparts\", kind = \"bar\", legend = False)"
   ]
  },
  {
   "cell_type": "markdown",
   "metadata": {},
   "source": [
    "## d) Age and Gender\n",
    "\n",
    "Let's try to extract age and gender. In a number of narratives you may have noticed a pattern:\n",
    "\n",
    "* \"**75 YOM**, FELL DOWN STAIRS, FRACTURE LEG\": A 75 year old male.\n",
    "* \"**21MOF** FINGER SHUT IN WINDOW AT HOME;NAILBED INJURY: A 21 month-old female child.\n",
    "* \"DX:AVULSION OF SKIN-**50YOF**-CUT THUMB WITH SCISSORS TONIGHT-OPENING A BOX\": A 50 year old female.\n",
    "* \"LEFT ELBOW CONTUSION,RT SHIN LAC.PT WAS ICE SKATING AND FELL.\": No information about age or gender.\n",
    "\n",
    "You are generally looking for a pattern with a number (age), something to indicate the units, e.g. YO or YR for years old, or MO for months old, and a character that identifies the gender. So, I suggest to think of a pattern that combines these three parts.\n",
    "\n",
    "Create variables for age and gender (make sure to convert months to years when necessary). How many men and women are in the data? Provide a line graph of the number of injuries (y-axis) vs age (x-axis) disaggregated by gender."
   ]
  },
  {
   "cell_type": "code",
   "execution_count": 23,
   "metadata": {
    "scrolled": false
   },
   "outputs": [
    {
     "data": {
      "text/html": [
       "<div>\n",
       "<style scoped>\n",
       "    .dataframe tbody tr th:only-of-type {\n",
       "        vertical-align: middle;\n",
       "    }\n",
       "\n",
       "    .dataframe tbody tr th {\n",
       "        vertical-align: top;\n",
       "    }\n",
       "\n",
       "    .dataframe thead th {\n",
       "        text-align: right;\n",
       "    }\n",
       "</style>\n",
       "<table border=\"1\" class=\"dataframe\">\n",
       "  <thead>\n",
       "    <tr style=\"text-align: right;\">\n",
       "      <th></th>\n",
       "      <th>Description</th>\n",
       "      <th>Gender</th>\n",
       "      <th>AGE</th>\n",
       "    </tr>\n",
       "  </thead>\n",
       "  <tbody>\n",
       "    <tr>\n",
       "      <th>0</th>\n",
       "      <td>10 MO F FELL OUT OF SHOPPING CART;DX FRACTURED...</td>\n",
       "      <td>F</td>\n",
       "      <td>0.83</td>\n",
       "    </tr>\n",
       "    <tr>\n",
       "      <th>1</th>\n",
       "      <td>75YOF WITH LAC TO FINGER FROM METAL CAN</td>\n",
       "      <td>F</td>\n",
       "      <td>75.00</td>\n",
       "    </tr>\n",
       "    <tr>\n",
       "      <th>2</th>\n",
       "      <td>12YOF FELL DOWN STAIRS DX: FX RADIUS</td>\n",
       "      <td>F</td>\n",
       "      <td>12.00</td>\n",
       "    </tr>\n",
       "    <tr>\n",
       "      <th>3</th>\n",
       "      <td>21 MO MALE FELL AND HIT FACE ON WINDOW SILL.  ...</td>\n",
       "      <td>M</td>\n",
       "      <td>1.75</td>\n",
       "    </tr>\n",
       "    <tr>\n",
       "      <th>4</th>\n",
       "      <td>DX SH PN/NECK PN: 75YOF WEEDING, FEL OVER HIT ...</td>\n",
       "      <td>F</td>\n",
       "      <td>75.00</td>\n",
       "    </tr>\n",
       "    <tr>\n",
       "      <th>...</th>\n",
       "      <td>...</td>\n",
       "      <td>...</td>\n",
       "      <td>...</td>\n",
       "    </tr>\n",
       "    <tr>\n",
       "      <th>5768</th>\n",
       "      <td>55YOF WAS LIFTING A HEAVY BAG OF SALT DEVELOPE...</td>\n",
       "      <td>F</td>\n",
       "      <td>55.00</td>\n",
       "    </tr>\n",
       "    <tr>\n",
       "      <th>5769</th>\n",
       "      <td>13 YOF PASSENGER ON 4-WHEELER; DRIVER LOST CON...</td>\n",
       "      <td>F</td>\n",
       "      <td>13.00</td>\n",
       "    </tr>\n",
       "    <tr>\n",
       "      <th>5770</th>\n",
       "      <td>16 MO MALE FELL AND HIT HEAD ON A TRAIN TABLE....</td>\n",
       "      <td>M</td>\n",
       "      <td>1.33</td>\n",
       "    </tr>\n",
       "    <tr>\n",
       "      <th>5771</th>\n",
       "      <td>81YOF-HUMERUS FX-FELL DOWN 3-4 STEPS-@ HOME</td>\n",
       "      <td>F</td>\n",
       "      <td>81.00</td>\n",
       "    </tr>\n",
       "    <tr>\n",
       "      <th>5772</th>\n",
       "      <td>30YOM PUSHING TRASH DOWN INTO A GARBAGE CAN WI...</td>\n",
       "      <td>M</td>\n",
       "      <td>30.00</td>\n",
       "    </tr>\n",
       "  </tbody>\n",
       "</table>\n",
       "<p>5773 rows × 3 columns</p>\n",
       "</div>"
      ],
      "text/plain": [
       "                                            Description Gender    AGE\n",
       "0     10 MO F FELL OUT OF SHOPPING CART;DX FRACTURED...      F   0.83\n",
       "1              75YOF WITH LAC TO FINGER FROM METAL CAN       F  75.00\n",
       "2                  12YOF FELL DOWN STAIRS DX: FX RADIUS      F  12.00\n",
       "3     21 MO MALE FELL AND HIT FACE ON WINDOW SILL.  ...      M   1.75\n",
       "4     DX SH PN/NECK PN: 75YOF WEEDING, FEL OVER HIT ...      F  75.00\n",
       "...                                                 ...    ...    ...\n",
       "5768  55YOF WAS LIFTING A HEAVY BAG OF SALT DEVELOPE...      F  55.00\n",
       "5769  13 YOF PASSENGER ON 4-WHEELER; DRIVER LOST CON...      F  13.00\n",
       "5770  16 MO MALE FELL AND HIT HEAD ON A TRAIN TABLE....      M   1.33\n",
       "5771       81YOF-HUMERUS FX-FELL DOWN 3-4 STEPS-@ HOME       F  81.00\n",
       "5772  30YOM PUSHING TRASH DOWN INTO A GARBAGE CAN WI...      M  30.00\n",
       "\n",
       "[5773 rows x 3 columns]"
      ]
     },
     "execution_count": 23,
     "metadata": {},
     "output_type": "execute_result"
    }
   ],
   "source": [
    "#set out pattern\n",
    "pattern = re.compile(r\"(\\d{2}).?(YO|YR|MO).?(M|F)\")\n",
    "\n",
    "#take out all narratives with age and gender info\n",
    "info = [i for i in df[\"Description\"] if re.search(pattern, i)]\n",
    "\n",
    "#change into a dataframe\n",
    "INFO = pd.DataFrame(info)\n",
    "INFO.columns = [\"Description\"]\n",
    "\n",
    "#add column information\n",
    "INFO[\"Gender\"] = [pattern.search(i).group(3) for i in INFO[\"Description\"]]\n",
    "INFO[\"AGE\"] = [pattern.search(i).group(1) for i in INFO[\"Description\"]]\n",
    "INFO[\"UNIT\"] = [pattern.search(i).group(2) for i in INFO[\"Description\"]]\n",
    "INFO = INFO.astype({\"AGE\":\"int32\"})\n",
    "\n",
    "#convert month to year\n",
    "INFO.loc[INFO.UNIT == \"MO\", \"AGE\"] = round(INFO.loc[INFO.UNIT == \"MO\", \"AGE\"]/12, 2)\n",
    "\n",
    "#drop unit column\n",
    "INFO = INFO.drop(columns = \"UNIT\")\n",
    "\n",
    "INFO"
   ]
  },
  {
   "cell_type": "code",
   "execution_count": 41,
   "metadata": {
    "scrolled": true
   },
   "outputs": [
    {
     "data": {
      "text/html": [
       "<div>\n",
       "<style scoped>\n",
       "    .dataframe tbody tr th:only-of-type {\n",
       "        vertical-align: middle;\n",
       "    }\n",
       "\n",
       "    .dataframe tbody tr th {\n",
       "        vertical-align: top;\n",
       "    }\n",
       "\n",
       "    .dataframe thead th {\n",
       "        text-align: right;\n",
       "    }\n",
       "</style>\n",
       "<table border=\"1\" class=\"dataframe\">\n",
       "  <thead>\n",
       "    <tr style=\"text-align: right;\">\n",
       "      <th></th>\n",
       "      <th>Description</th>\n",
       "      <th>AGE</th>\n",
       "    </tr>\n",
       "    <tr>\n",
       "      <th>Gender</th>\n",
       "      <th></th>\n",
       "      <th></th>\n",
       "    </tr>\n",
       "  </thead>\n",
       "  <tbody>\n",
       "    <tr>\n",
       "      <th>F</th>\n",
       "      <td>2557</td>\n",
       "      <td>2557</td>\n",
       "    </tr>\n",
       "    <tr>\n",
       "      <th>M</th>\n",
       "      <td>3216</td>\n",
       "      <td>3216</td>\n",
       "    </tr>\n",
       "  </tbody>\n",
       "</table>\n",
       "</div>"
      ],
      "text/plain": [
       "        Description   AGE\n",
       "Gender                   \n",
       "F              2557  2557\n",
       "M              3216  3216"
      ]
     },
     "execution_count": 41,
     "metadata": {},
     "output_type": "execute_result"
    }
   ],
   "source": [
    "INFO.groupby(\"Gender\").count()"
   ]
  },
  {
   "cell_type": "markdown",
   "metadata": {},
   "source": [
    "**Therefore, from the narrative data we have, we can identify 2557 female and 3216 male.**"
   ]
  },
  {
   "cell_type": "code",
   "execution_count": 39,
   "metadata": {},
   "outputs": [
    {
     "data": {
      "text/plain": [
       "Text(0, 0.5, 'Number of Injuries')"
      ]
     },
     "execution_count": 39,
     "metadata": {},
     "output_type": "execute_result"
    },
    {
     "data": {
      "image/png": "[encoded data removed]",
      "text/plain": [
       "<Figure size 432x288 with 1 Axes>"
      ]
     },
     "metadata": {
      "needs_background": "light"
     },
     "output_type": "display_data"
    }
   ],
   "source": [
    "INFO.groupby([\"AGE\", \"Gender\"]).count()[\"Description\"].unstack().plot()\n",
    "plt.xlabel(\"AGE\")\n",
    "plt.ylabel(\"Number of Injuries\")"
   ]
  }
 ],
 "metadata": {
  "kernelspec": {
   "display_name": "Python 3",
   "language": "python",
   "name": "python3"
  },
  "language_info": {
   "codemirror_mode": {
    "name": "ipython",
    "version": 3
   },
   "file_extension": ".py",
   "mimetype": "text/x-python",
   "name": "python",
   "nbconvert_exporter": "python",
   "pygments_lexer": "ipython3",
   "version": "3.7.3"
  }
 },
 "nbformat": 4,
 "nbformat_minor": 2
}
